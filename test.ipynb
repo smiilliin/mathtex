{
 "cells": [
  {
   "cell_type": "code",
   "execution_count": null,
   "metadata": {},
   "outputs": [],
   "source": [
    "from mathtex import MathTex, Problem\n",
    "\n",
    "tex = MathTex(\"Calculus Problem Test\", \"smiilliin\")\n",
    "\n",
    "\n",
    "tex.add_problem(\n",
    "    Problem(\n",
    "        \"Solve \\\\[ \\\\int x^2 dx \\\\]\",\n",
    "        [\n",
    "            \"\\\\( \\\\frac{x^3}{3} + C \\\\)\",\n",
    "            \"\\\\( \\\\frac{x^2}{2} + C \\\\)\",\n",
    "            \"\\\\( \\\\frac{x^3}{2} + C \\\\)\",\n",
    "            \"\\\\( x^2 + C \\\\)\",\n",
    "        ],\n",
    "    )\n",
    ")\n",
    "\n",
    "\n",
    "\n",
    "tex.add_problem(\n",
    "    Problem(\n",
    "        \"Solve \\\\[ \\\\int 4x^3 dx \\\\]\",\n",
    "        [\n",
    "            \"\\\\( {x^4} + C \\\\)\",\n",
    "            \"\\\\( \\\\frac{1}{x} + C \\\\)\",\n",
    "            \"\\\\( {x^2} + C \\\\)\",\n",
    "            \"\\\\( x^4 + C \\\\)\",\n",
    "        ],\n",
    "    )\n",
    ")\n",
    "\n",
    "\n",
    "\n",
    "tex.write(\"test.tex\")"
   ]
  }
 ],
 "metadata": {
  "kernelspec": {
   "display_name": "Python 3",
   "language": "python",
   "name": "python3"
  },
  "language_info": {
   "codemirror_mode": {
    "name": "ipython",
    "version": 3
   },
   "file_extension": ".py",
   "mimetype": "text/x-python",
   "name": "python",
   "nbconvert_exporter": "python",
   "pygments_lexer": "ipython3",
   "version": "3.12.5"
  }
 },
 "nbformat": 4,
 "nbformat_minor": 2
}
